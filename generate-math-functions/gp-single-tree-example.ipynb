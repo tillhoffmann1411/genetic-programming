{
 "metadata": {
  "language_info": {
   "codemirror_mode": {
    "name": "ipython",
    "version": 3
   },
   "file_extension": ".py",
   "mimetype": "text/x-python",
   "name": "python",
   "nbconvert_exporter": "python",
   "pygments_lexer": "ipython3",
   "version": "3.9.4"
  },
  "orig_nbformat": 2,
  "kernelspec": {
   "name": "python394jvsc74a57bd04fcb0a805ae52c0b2ab0301751651e48ee4d6dbbb6dba15c6532ebc3ba260df3",
   "display_name": "Python 3.9.4 64-bit ('venv': venv)",
   "language": "python"
  }
 },
 "nbformat": 4,
 "nbformat_minor": 2,
 "cells": [
  {
   "source": [
    "<light>First some imports we need</light>"
   ],
   "cell_type": "markdown",
   "metadata": {}
  },
  {
   "cell_type": "code",
   "execution_count": 13,
   "metadata": {},
   "outputs": [],
   "source": [
    "import operator, math, random\n",
    "import numpy\n",
    "\n",
    "from IPython.display import Image\n",
    "from deap import base, creator, tools, gp, algorithms\n",
    "from helper import plot, plot_tree"
   ]
  },
  {
   "source": [
    "<h2>1. Defining the PrimitiveSet Object</h2>\n",
    "<p>\n",
    "    In this first step we define the PrimitiveSet <code>pset</code>. The <code>pset</code> contains  the base functions, constants and the definition of input parameters. In following steps trees are     build out of these components.\n",
    "</p>\n",
    "</br>\n",
    "<p>\n",
    "    Generate a PrimitiveSetType Object with two input parameters (first one is a boolean and second one is a float). The return value of the result (the root node in the tree) should be a float value.\n",
    "</p>"
   ],
   "cell_type": "markdown",
   "metadata": {}
  },
  {
   "cell_type": "code",
   "execution_count": 14,
   "metadata": {},
   "outputs": [],
   "source": [
    "pset = gp.PrimitiveSetTyped(\"main\", [bool, float], float)"
   ]
  },
  {
   "source": [
    "Define a custom function"
   ],
   "cell_type": "markdown",
   "metadata": {}
  },
  {
   "cell_type": "code",
   "execution_count": 15,
   "metadata": {},
   "outputs": [],
   "source": [
    "def if_then_else(input, output1, output2):\n",
    "    return output1 if input else output2"
   ]
  },
  {
   "source": [
    "Define primitive functions for the nodes. The first parameter defines the function, the second the types of the input parameters and the third one the type of the output."
   ],
   "cell_type": "markdown",
   "metadata": {}
  },
  {
   "cell_type": "code",
   "execution_count": 16,
   "metadata": {},
   "outputs": [],
   "source": [
    "pset.addPrimitive(operator.xor, [bool, bool], bool)\n",
    "pset.addPrimitive(operator.mul, [float, float], float)\n",
    "pset.addPrimitive(if_then_else, [bool, float, float], float)"
   ]
  },
  {
   "source": [
    "Secondly define some constants for the terminals (leafs in the tree)"
   ],
   "cell_type": "markdown",
   "metadata": {}
  },
  {
   "cell_type": "code",
   "execution_count": 17,
   "metadata": {},
   "outputs": [],
   "source": [
    "pset.addTerminal(3.0, float)\n",
    "pset.addTerminal(1, bool)"
   ]
  },
  {
   "source": [
    "Define names for the input parameters"
   ],
   "cell_type": "markdown",
   "metadata": {}
  },
  {
   "cell_type": "code",
   "execution_count": 18,
   "metadata": {},
   "outputs": [],
   "source": [
    "pset.renameArguments(ARG0=\"x\")\n",
    "pset.renameArguments(ARG1=\"y\")"
   ]
  },
  {
   "source": [
    "<h2>2. Generation of Tree Individuals</h2>\n",
    "<p>\n",
    "\n",
    "To generate valid individuals we need to create the <code>Fitness</code> and <code>Individuals</code> classes. We also add a reference to the previously generated PrimitiveSet object.\n",
    "\n",
    "</p>"
   ],
   "cell_type": "markdown",
   "metadata": {}
  },
  {
   "cell_type": "code",
   "execution_count": 19,
   "metadata": {},
   "outputs": [
    {
     "output_type": "stream",
     "name": "stderr",
     "text": [
      "/Users/tillhoffmann/Projects/uni/heuristic-algorithms/first-deap-test/venv/lib/python3.9/site-packages/deap/creator.py:138: RuntimeWarning: A class named 'FitnessMin' has already been created and it will be overwritten. Consider deleting previous creation of that class or rename it.\n  warnings.warn(\"A class named '{0}' has already been created and it \"\n/Users/tillhoffmann/Projects/uni/heuristic-algorithms/first-deap-test/venv/lib/python3.9/site-packages/deap/creator.py:138: RuntimeWarning: A class named 'Individual' has already been created and it will be overwritten. Consider deleting previous creation of that class or rename it.\n  warnings.warn(\"A class named '{0}' has already been created and it \"\n"
     ]
    }
   ],
   "source": [
    "creator.create(\"FitnessMin\", base.Fitness, weights=(-1.0,))\n",
    "creator.create(\"Individual\", gp.PrimitiveTree, fitness=creator.FitnessMin,\n",
    "               pset=pset)"
   ]
  },
  {
   "source": [
    "Register the functions into a toolbox."
   ],
   "cell_type": "markdown",
   "metadata": {}
  },
  {
   "cell_type": "code",
   "execution_count": 20,
   "metadata": {},
   "outputs": [],
   "source": [
    "toolbox = base.Toolbox()\n",
    "toolbox.register(\"expr\", gp.genFull, pset=pset, min_=1, max_=3)\n",
    "toolbox.register(\"individual\", tools.initIterate, creator.Individual,\n",
    "                 toolbox.expr)"
   ]
  },
  {
   "source": [
    "<h2>3. Evaluation of trees</h2>"
   ],
   "cell_type": "markdown",
   "metadata": {}
  },
  {
   "cell_type": "code",
   "execution_count": 21,
   "metadata": {},
   "outputs": [
    {
     "output_type": "execute_result",
     "data": {
      "text/plain": [
       "'if_then_else(xor(1, 1), mul(3.0, 3.0), mul(3.0, 3.0))'"
      ]
     },
     "metadata": {},
     "execution_count": 21
    }
   ],
   "source": [
    "expr = gp.genFull(pset, min_=1, max_=3)\n",
    "tree = gp.PrimitiveTree(expr)\n",
    "str(tree)"
   ]
  },
  {
   "cell_type": "code",
   "execution_count": 22,
   "metadata": {},
   "outputs": [
    {
     "output_type": "execute_result",
     "data": {
      "text/plain": [
       "9.0"
      ]
     },
     "metadata": {},
     "execution_count": 22
    }
   ],
   "source": [
    "function = gp.compile(tree, pset)\n",
    "function(1, 2)"
   ]
  },
  {
   "source": [
    "<h2>4. Plotting a tree</h2>"
   ],
   "cell_type": "markdown",
   "metadata": {}
  },
  {
   "cell_type": "code",
   "execution_count": 26,
   "metadata": {},
   "outputs": [
    {
     "output_type": "execute_result",
     "data": {
      "image/png": "[encoded data removed]",
      "text/plain": [
       "<IPython.core.display.Image object>"
      ]
     },
     "metadata": {},
     "execution_count": 26
    }
   ],
   "source": [
    "nodes, edges, labels = gp.graph(expr)\n",
    "plot_tree(nodes, edges, labels)\n",
    "\n",
    "Image(filename='tree.png')              # displays the image"
   ]
  }
 ]
}