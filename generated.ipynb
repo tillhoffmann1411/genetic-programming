{
 "metadata": {
  "language_info": {
   "codemirror_mode": {
    "name": "ipython",
    "version": 3
   },
   "file_extension": ".py",
   "mimetype": "text/x-python",
   "name": "python",
   "nbconvert_exporter": "python",
   "pygments_lexer": "ipython3",
   "version": "3.9.4"
  },
  "orig_nbformat": 2,
  "kernelspec": {
   "name": "python394jvsc74a57bd04fcb0a805ae52c0b2ab0301751651e48ee4d6dbbb6dba15c6532ebc3ba260df3",
   "display_name": "Python 3.9.4 64-bit ('venv': venv)",
   "language": "python"
  }
 },
 "nbformat": 4,
 "nbformat_minor": 2,
 "cells": [
  {
   "cell_type": "code",
   "execution_count": 6,
   "metadata": {},
   "outputs": [],
   "source": [
    "from operator import * \n",
    "from helper import *\n",
    "import math"
   ]
  },
  {
   "source": [],
   "cell_type": "markdown",
   "metadata": {}
  },
  {
   "cell_type": "code",
   "execution_count": 19,
   "metadata": {},
   "outputs": [],
   "source": [
    "def func(x):\n",
    " return mul(x, add(add(sub(sub(5, 0), protectedDiv(9, x)), mul(2, x)), x))\n",
    "\n",
    "\n",
    "\n"
   ]
  },
  {
   "cell_type": "code",
   "execution_count": 20,
   "metadata": {},
   "outputs": [
    {
     "output_type": "stream",
     "name": "stdout",
     "text": [
      "0 vs -12\n-1.0 vs -4\n13.0 vs 10\n33.0 vs 30\n59.0 vs 56\n91.0 vs 88\n129.0 vs 126\n173.0 vs 170\n223.0 vs 220\n279.0 vs 276\n341.0 vs 338\n409.0 vs 406\n483.0 vs 480\n563.0 vs 560\n649.0 vs 646\n741.0 vs 738\n839.0 vs 836\n943.0 vs 940\n1053.0 vs 1050\n1169.0 vs 1166\n1291.0 vs 1288\n1419.0 vs 1416\n1553.0 vs 1550\n1692.9999999999998 vs 1690\n1839.0 vs 1836\n1991.0 vs 1988\n2149.0 vs 2146\n2312.9999999999995 vs 2310\n2483.0 vs 2480\n2659.0 vs 2656\n2841.0 vs 2838\n3029.0 vs 3026\n3223.0 vs 3220\n3423.0 vs 3420\n3629.0 vs 3626\n3841.0 vs 3838\n4059.0 vs 4056\n4283.0 vs 4280\n4513.0 vs 4510\n4749.0 vs 4746\n4991.0 vs 4988\n5239.0 vs 5236\n5493.0 vs 5490\n5753.0 vs 5750\n6019.000000000001 vs 6016\n6291.000000000001 vs 6288\n6568.999999999999 vs 6566\n6853.000000000001 vs 6850\n7143.0 vs 7140\n7438.999999999999 vs 7436\n7741.0 vs 7738\n8048.999999999999 vs 8046\n8363.0 vs 8360\n8683.0 vs 8680\n9008.999999999998 vs 9006\n9341.0 vs 9338\n9679.0 vs 9676\n10023.0 vs 10020\n10373.0 vs 10370\n10729.0 vs 10726\n11091.0 vs 11088\n11458.999999999998 vs 11456\n11833.0 vs 11830\n12213.0 vs 12210\n12599.0 vs 12596\n12991.0 vs 12988\n13389.0 vs 13386\n13793.0 vs 13790\n14203.0 vs 14200\n14619.0 vs 14616\n15041.0 vs 15038\n15469.0 vs 15466\n15903.0 vs 15900\n16343.0 vs 16340\n16789.0 vs 16786\n17241.0 vs 17238\n17699.0 vs 17696\n18163.0 vs 18160\n18633.0 vs 18630\n19109.0 vs 19106\n19591.0 vs 19588\n20079.0 vs 20076\n20573.0 vs 20570\n21073.0 vs 21070\n21578.999999999996 vs 21576\n22091.0 vs 22088\n22609.000000000004 vs 22606\n23132.999999999996 vs 23130\n23663.0 vs 23660\n24199.0 vs 24196\n24740.999999999996 vs 24738\n25288.999999999996 vs 25286\n25843.0 vs 25840\n26402.999999999996 vs 26400\n26969.0 vs 26966\n27541.0 vs 27538\n28119.0 vs 28116\n28702.999999999996 vs 28700\n29293.000000000004 vs 29290\n29888.999999999996 vs 29886\n"
     ]
    },
    {
     "output_type": "execute_result",
     "data": {
      "text/plain": [
       "30.89999999999775"
      ]
     },
     "metadata": {},
     "execution_count": 20
    }
   ],
   "source": [
    "def y(x: int):\n",
    "    return 3 * x**2 + 5 * x - 12 \n",
    "\n",
    "\n",
    "mse = 0.0\n",
    "for i in range(100):\n",
    "    result = func(i)\n",
    "    print(str(result) + \" vs \" + str(y(i)))\n",
    "    mse += math.sqrt((y(i) - result)**2)\n",
    "\n",
    "mse / 10"
   ]
  },
  {
   "cell_type": "code",
   "execution_count": null,
   "metadata": {},
   "outputs": [],
   "source": []
  }
 ]
}