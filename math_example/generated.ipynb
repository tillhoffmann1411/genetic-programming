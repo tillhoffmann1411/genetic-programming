{
 "metadata": {
  "language_info": {
   "codemirror_mode": {
    "name": "ipython",
    "version": 3
   },
   "file_extension": ".py",
   "mimetype": "text/x-python",
   "name": "python",
   "nbconvert_exporter": "python",
   "pygments_lexer": "ipython3",
   "version": "3.9.4"
  },
  "orig_nbformat": 2,
  "kernelspec": {
   "name": "python394jvsc74a57bd04fcb0a805ae52c0b2ab0301751651e48ee4d6dbbb6dba15c6532ebc3ba260df3",
   "display_name": "Python 3.9.4 64-bit ('venv': venv)"
  }
 },
 "nbformat": 4,
 "nbformat_minor": 2,
 "cells": [
  {
   "cell_type": "code",
   "execution_count": 1,
   "metadata": {},
   "outputs": [],
   "source": [
    "from operator import * \n",
    "from primitive_functions import *\n",
    "import math"
   ]
  },
  {
   "source": [],
   "cell_type": "markdown",
   "metadata": {}
  },
  {
   "cell_type": "code",
   "execution_count": 2,
   "metadata": {},
   "outputs": [],
   "source": [
    "def func(x):\n",
    " return mul(add(2, add(0, add(x, 1))), add(sub(sub(2, 4), 2), add(sub(2, 2), mul(x, 3))))"
   ]
  },
  {
   "cell_type": "code",
   "execution_count": 3,
   "metadata": {},
   "outputs": [
    {
     "output_type": "stream",
     "name": "stdout",
     "text": [
      "-12 vs -12\n-4 vs -4\n10 vs 10\n30 vs 30\n56 vs 56\n88 vs 88\n126 vs 126\n170 vs 170\n220 vs 220\n276 vs 276\n338 vs 338\n406 vs 406\n480 vs 480\n560 vs 560\n646 vs 646\n738 vs 738\n836 vs 836\n940 vs 940\n1050 vs 1050\n1166 vs 1166\n1288 vs 1288\n1416 vs 1416\n1550 vs 1550\n1690 vs 1690\n1836 vs 1836\n1988 vs 1988\n2146 vs 2146\n2310 vs 2310\n2480 vs 2480\n2656 vs 2656\n2838 vs 2838\n3026 vs 3026\n3220 vs 3220\n3420 vs 3420\n3626 vs 3626\n3838 vs 3838\n4056 vs 4056\n4280 vs 4280\n4510 vs 4510\n4746 vs 4746\n4988 vs 4988\n5236 vs 5236\n5490 vs 5490\n5750 vs 5750\n6016 vs 6016\n6288 vs 6288\n6566 vs 6566\n6850 vs 6850\n7140 vs 7140\n7436 vs 7436\n7738 vs 7738\n8046 vs 8046\n8360 vs 8360\n8680 vs 8680\n9006 vs 9006\n9338 vs 9338\n9676 vs 9676\n10020 vs 10020\n10370 vs 10370\n10726 vs 10726\n11088 vs 11088\n11456 vs 11456\n11830 vs 11830\n12210 vs 12210\n12596 vs 12596\n12988 vs 12988\n13386 vs 13386\n13790 vs 13790\n14200 vs 14200\n14616 vs 14616\n15038 vs 15038\n15466 vs 15466\n15900 vs 15900\n16340 vs 16340\n16786 vs 16786\n17238 vs 17238\n17696 vs 17696\n18160 vs 18160\n18630 vs 18630\n19106 vs 19106\n19588 vs 19588\n20076 vs 20076\n20570 vs 20570\n21070 vs 21070\n21576 vs 21576\n22088 vs 22088\n22606 vs 22606\n23130 vs 23130\n23660 vs 23660\n24196 vs 24196\n24738 vs 24738\n25286 vs 25286\n25840 vs 25840\n26400 vs 26400\n26966 vs 26966\n27538 vs 27538\n28116 vs 28116\n28700 vs 28700\n29290 vs 29290\n29886 vs 29886\n"
     ]
    },
    {
     "output_type": "execute_result",
     "data": {
      "text/plain": [
       "0.0"
      ]
     },
     "metadata": {},
     "execution_count": 3
    }
   ],
   "source": [
    "def y(x: int):\n",
    "    return 3 * x**2 + 5 * x - 12 \n",
    "\n",
    "\n",
    "mse = 0.0\n",
    "for i in range(100):\n",
    "    result = func(i)\n",
    "    print(str(result) + \" vs \" + str(y(i)))\n",
    "    mse += (y(i) - result)**2\n",
    "\n",
    "math.sqrt(mse / 100)"
   ]
  },
  {
   "cell_type": "code",
   "execution_count": null,
   "metadata": {},
   "outputs": [],
   "source": []
  }
 ]
}