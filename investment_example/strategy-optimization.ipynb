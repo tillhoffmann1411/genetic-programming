{
 "cells": [
  {
   "cell_type": "markdown",
   "metadata": {},
   "source": [
    "# Portfolio Optimization with Genetic Programming\n",
    "\n",
    "# 1. Defining the terminals\n",
    "In this first step we define the Primitive set (`pset`). The `pset` contains the functions, constants and input parameters our trees will be build of.\n",
    "\n",
    "First define the input parameters for the generated trees."
   ]
  },
  {
   "cell_type": "code",
   "execution_count": null,
   "metadata": {},
   "outputs": [],
   "source": [
    "from deap import base, creator, tools, gp, algorithms\n",
    "import operator, random\n",
    "from stock import Stock\n",
    "import numpy as np\n",
    "from tree_plot import *\n",
    "from primitive_functions import *\n",
    "from parser import *\n",
    "from dateutil.relativedelta import relativedelta\n",
    "\n",
    "pset = gp.PrimitiveSetTyped(\"main\", [Stock], int)"
   ]
  },
  {
   "cell_type": "markdown",
   "metadata": {},
   "source": [
    "Define primitive functions for the nodes. The first parameter defines the function, the second the types of the input parameters and the third one the type of the output."
   ]
  },
  {
   "cell_type": "code",
   "execution_count": null,
   "metadata": {},
   "outputs": [],
   "source": [
    "pset.addPrimitive(profit10, [Stock, int, int], int, name=\"profit_larger_10\")\n",
    "pset.addPrimitive(profit20, [Stock, int, int], int, name=\"profit_larger_20\")\n",
    "pset.addPrimitive(profit40, [Stock, int, int], int, name=\"profit_larger_40\")\n",
    "pset.addPrimitive(profit60, [Stock, int, int], int, name=\"profit_larger_60\")\n",
    "pset.addPrimitive(profit80, [Stock, int, int], int, name=\"profit_larger_80\")\n",
    "pset.addPrimitive(risk10, [Stock, int, int], int, name=\"risk_larger_10\")\n",
    "pset.addPrimitive(risk20, [Stock, int, int], int, name=\"risk_larger_20\")\n",
    "pset.addPrimitive(risk40, [Stock, int, int], int, name=\"risk_larger_40\")\n",
    "pset.addPrimitive(risk60, [Stock, int, int], int, name=\"risk_larger_60\")\n",
    "pset.addPrimitive(risk80, [Stock, int, int], int, name=\"risk_larger_80\")\n",
    "pset.addPrimitive(stock, [Stock], Stock, name=\"asset_f\")\n",
    "\n",
    "\n",
    "pset.addTerminal(0, int)\n",
    "pset.addTerminal(12, int)\n",
    "pset.addTerminal(24, int)\n",
    "pset.addTerminal(48, int)"
   ]
  },
  {
   "cell_type": "markdown",
   "metadata": {},
   "source": [
    "Renaming the input parameter"
   ]
  },
  {
   "cell_type": "code",
   "execution_count": null,
   "metadata": {},
   "outputs": [],
   "source": [
    "pset.renameArguments(ARG0=\"asset\")"
   ]
  },
  {
   "cell_type": "markdown",
   "metadata": {},
   "source": [
    "# 2. Defining Object types\n",
    "In any evolutionary program, we need some basic object types. In this case we need two, a fitness type and the type for individuals. In this problem we are facing an maximization and minimization problem (maximize the value and minimize the tree size)(so the one value is positive and the other one is negative). The individual will be based upon a tree, to which we add the defined fitness."
   ]
  },
  {
   "cell_type": "code",
   "execution_count": null,
   "metadata": {},
   "outputs": [],
   "source": [
    "creator.create(\"Fitness\", base.Fitness, weights=(1.0, -1.0, ))\n",
    "creator.create(\"Individual\", gp.PrimitiveTree, fitness=creator.Fitness, pset=pset)"
   ]
  },
  {
   "cell_type": "markdown",
   "metadata": {},
   "source": [
    "# 3. Define helper functions\n",
    "Register functions that we during the whole algorithm (generate, evaluate, mutate, ...). Any structure with access to the toolbox will also have access to all of those registered parameters."
   ]
  },
  {
   "cell_type": "markdown",
   "metadata": {},
   "source": [
    "## 3.1 Generating individuals"
   ]
  },
  {
   "cell_type": "code",
   "execution_count": null,
   "metadata": {},
   "outputs": [],
   "source": [
    "toolbox = base.Toolbox()\n",
    "# Defines how a tree expression looks like\n",
    "toolbox.register(\"expr\", gp.genHalfAndHalf, pset=pset, min_=1, max_=6)\n",
    "# How an individual should be generated (in this case as a tree)\n",
    "toolbox.register(\"individual\", tools.initIterate, creator.Individual, toolbox.expr)\n",
    "# How the population of individuals should look like\n",
    "toolbox.register(\"population\", tools.initRepeat, list, toolbox.individual)"
   ]
  },
  {
   "cell_type": "markdown",
   "metadata": {},
   "source": [
    "## 3.2 Evaluation\n",
    "Define functions that help us to evaluate an individuum. This includes to calculate the fitness. But first we need to generate executable pythoncode out of our tree individuals.\n",
    "\n",
    "To get working python code out of our generated tree we can use the `gp.compile` function."
   ]
  },
  {
   "cell_type": "code",
   "execution_count": null,
   "metadata": {},
   "outputs": [],
   "source": [
    "# Generates Python code out of trees\n",
    "toolbox.register(\"compile\", gp.compile, pset=pset)\n",
    "\n",
    "all_symbols = load_all_symbols()\n",
    "all_assets = generate_all_assets(all_symbols, sample=len(all_symbols))\n",
    "\n",
    "def evaluate(tree):\n",
    "    # using the previously defined compile function\n",
    "    function = toolbox.compile(tree)\n",
    "\n",
    "    # Set end date which is used to generate the trees\n",
    "    end = datetime(2015, 1, 23)\n",
    "\n",
    "    #\n",
    "    nr_samples = 10\n",
    "\n",
    "    # Following part is used to evaluate the trees\n",
    "    profit = 0.0\n",
    "    risk = 0.0\n",
    "    # Go through some sample assets and get a recommendation for how long one should hold the stock, based on the historical data\n",
    "    for asset in random.sample(all_assets, nr_samples):\n",
    "        hold_duration = function(asset)\n",
    "\n",
    "        if hold_duration is not None and hold_duration > 0:\n",
    "            # Get the profit and risk for the calculated hold time for one specific asset\n",
    "            future_profit = asset.get_avg_profit(start=end, end=end + relativedelta(months=hold_duration))\n",
    "            future_risk = asset.get_avg_risk(start=end, end=end + relativedelta(months=hold_duration))\n",
    "            if future_profit is not None:\n",
    "                profit += future_profit\n",
    "            if future_risk is not None:\n",
    "                risk += future_risk\n",
    "\n",
    "    profit = profit / nr_samples\n",
    "    risk = risk / nr_samples\n",
    "    return profit, risk,\n",
    "\n",
    "# Now add the evaluation Function to our toolbox\n",
    "toolbox.register(\"evaluate\", evaluate)"
   ]
  },
  {
   "cell_type": "markdown",
   "metadata": {},
   "source": [
    "## 3.3 Selection for next generation\n",
    "Select the best individual among tournsize randomly chosen individuals, k times. The list returned contains references to the input individuals."
   ]
  },
  {
   "cell_type": "code",
   "execution_count": null,
   "metadata": {},
   "outputs": [],
   "source": [
    "toolbox.register(\"select\", tools.selTournament, tournsize=3)"
   ]
  },
  {
   "cell_type": "markdown",
   "metadata": {},
   "source": [
    "## 3.4 Reproduction\n",
    "Define random mutations for individuals.\n",
    "\n",
    "Mutation strategy: Randomly select a point in the tree individual, then replace the subtree at that point as a root by the expression generated using method expr_mut().\n",
    "\n",
    "Crossover strategy: Randomly select crossover point in each individual and exchange each subtree with the point as root between each individual."
   ]
  },
  {
   "cell_type": "code",
   "execution_count": null,
   "metadata": {},
   "outputs": [],
   "source": [
    "# Defines how the expression of a tree mutation should look like\n",
    "toolbox.register(\"expr_mut\", gp.genFull, min_=0, max_=2)\n",
    "# How the mutation should be applied\n",
    "toolbox.register(\"mutate\", gp.mutUniform, expr=toolbox.expr_mut, pset=pset)\n",
    "\n",
    "# Crossover\n",
    "toolbox.register(\"mate\", gp.cxOnePoint)\n",
    "\n",
    "\n",
    "# Limit the height of individual to avoid bloat\n",
    "toolbox.decorate(\"mutate\", gp.staticLimit(key=operator.attrgetter(\"height\"), max_value=17))\n",
    "toolbox.decorate(\"mate\", gp.staticLimit(key=operator.attrgetter(\"height\"), max_value=17))"
   ]
  },
  {
   "cell_type": "markdown",
   "metadata": {},
   "source": [
    "# 4. Add some statistics\n",
    " In this case, we want to compute the mean, standard deviation, minimum, and maximum of both the individuals fitness and size."
   ]
  },
  {
   "cell_type": "code",
   "execution_count": null,
   "metadata": {},
   "outputs": [],
   "source": [
    "def stats():\n",
    "    stats_fit = tools.Statistics(lambda ind: ind.fitness.values)\n",
    "    stats_size = tools.Statistics(len)\n",
    "    mstats = tools.MultiStatistics(fitness=stats_fit, size=stats_size)\n",
    "    mstats.register(\"avg\", np.mean)\n",
    "    mstats.register(\"max\", np.max)\n",
    "    return mstats"
   ]
  },
  {
   "cell_type": "markdown",
   "metadata": {},
   "source": [
    "# 5. Plott trees"
   ]
  },
  {
   "cell_type": "code",
   "execution_count": null,
   "metadata": {},
   "outputs": [],
   "source": [
    "def plot(trees, name_pre: str = \"\"):\n",
    "    write_file(trees[0])\n",
    "    for index, tree in zip(range(len(trees)), trees):\n",
    "        # Generate Graph\n",
    "        print(\"generate Graph for tree \" + str(index))\n",
    "        nodes, edges, labels = gp.graph(tree)\n",
    "        plot_tree(nodes, edges, labels, \"tree_\" + name_pre + \"_\" + str(index))"
   ]
  },
  {
   "cell_type": "markdown",
   "metadata": {},
   "source": [
    "# 6. Launch"
   ]
  },
  {
   "cell_type": "code",
   "execution_count": null,
   "metadata": {},
   "outputs": [],
   "source": [
    "pop = toolbox.population(n=10)\n",
    "hof = tools.HallOfFame(1)\n",
    "\n",
    "mstats = stats()\n",
    "\n",
    "pop, log = algorithms.eaSimple(pop, toolbox, cxpb=0.4, mutpb=0.2, ngen=25, halloffame=hof, stats=mstats, verbose=True)\n",
    "\n",
    "plot(hof, name_pre=\"hof\")\n",
    "plot(pop, name_pre=\"pop\")\n",
    "\n",
    "# Display the tree\n",
    "from IPython.display import Image\n",
    "Image(filename=\"images/tree_hof_0.png\")"
   ]
  },
  {
   "cell_type": "code",
   "execution_count": null,
   "metadata": {},
   "outputs": [],
   "source": []
  }
 ],
 "metadata": {
  "kernelspec": {
   "name": "python394jvsc74a57bd04fcb0a805ae52c0b2ab0301751651e48ee4d6dbbb6dba15c6532ebc3ba260df3",
   "display_name": "Python 3.9.4 64-bit ('venv': venv)"
  },
  "language_info": {
   "codemirror_mode": {
    "name": "ipython",
    "version": 3
   },
   "file_extension": ".py",
   "mimetype": "text/x-python",
   "name": "python",
   "nbconvert_exporter": "python",
   "pygments_lexer": "ipython3",
   "version": "3.9.4"
  }
 },
 "nbformat": 4,
 "nbformat_minor": 2
}