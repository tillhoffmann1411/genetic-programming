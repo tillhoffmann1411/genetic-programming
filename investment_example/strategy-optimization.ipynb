{
 "cells": [
  {
   "cell_type": "markdown",
   "metadata": {},
   "source": [
    "# Portfolio Optimization with Genetic Programming\n",
    "\n",
    "# 1. Defining the terminals\n",
    "In this first step we define the Primitive set (`pset`). The `pset` contains the functions, constants and input parameters our trees will be build of.\n",
    "\n",
    "First define the input parameters for the generated trees."
   ]
  },
  {
   "cell_type": "code",
   "execution_count": 1,
   "metadata": {},
   "outputs": [],
   "source": [
    "from deap import base, creator, tools, gp, algorithms\n",
    "import operator, random\n",
    "from stock import Stock\n",
    "import numpy as np\n",
    "from tree_plot import *\n",
    "from primitive_functions import *\n",
    "from parser import *\n",
    "from dateutil.relativedelta import relativedelta\n",
    "\n",
    "pset = gp.PrimitiveSetTyped(\"main\", [Stock], int)"
   ]
  },
  {
   "cell_type": "markdown",
   "metadata": {},
   "source": [
    "Define primitive functions for the nodes. The first parameter defines the function, the second the types of the input parameters and the third one the type of the output."
   ]
  },
  {
   "cell_type": "code",
   "execution_count": 2,
   "metadata": {},
   "outputs": [],
   "source": [
    "pset.addPrimitive(profit10, [Stock, int, int], int, name=\"profit_larger_10\")\n",
    "pset.addPrimitive(profit20, [Stock, int, int], int, name=\"profit_larger_20\")\n",
    "pset.addPrimitive(profit40, [Stock, int, int], int, name=\"profit_larger_40\")\n",
    "pset.addPrimitive(profit60, [Stock, int, int], int, name=\"profit_larger_60\")\n",
    "pset.addPrimitive(profit80, [Stock, int, int], int, name=\"profit_larger_80\")\n",
    "pset.addPrimitive(risk10, [Stock, int, int], int, name=\"risk_larger_10\")\n",
    "pset.addPrimitive(risk20, [Stock, int, int], int, name=\"risk_larger_20\")\n",
    "pset.addPrimitive(risk40, [Stock, int, int], int, name=\"risk_larger_40\")\n",
    "pset.addPrimitive(risk60, [Stock, int, int], int, name=\"risk_larger_60\")\n",
    "pset.addPrimitive(risk80, [Stock, int, int], int, name=\"risk_larger_80\")\n",
    "pset.addPrimitive(stock, [Stock], Stock, name=\"asset_f\")\n",
    "\n",
    "\n",
    "pset.addTerminal(0, int)\n",
    "pset.addTerminal(12, int)\n",
    "pset.addTerminal(24, int)\n",
    "pset.addTerminal(48, int)"
   ]
  },
  {
   "cell_type": "markdown",
   "metadata": {},
   "source": [
    "Renaming the input parameter"
   ]
  },
  {
   "cell_type": "code",
   "execution_count": 3,
   "metadata": {},
   "outputs": [],
   "source": [
    "pset.renameArguments(ARG0=\"asset\")"
   ]
  },
  {
   "cell_type": "markdown",
   "metadata": {},
   "source": [
    "# 2. Defining Object types\n",
    "In any evolutionary program, we need some basic object types. In this case we need two, a fitness type and the type for individuals. In this problem we are facing an maximization and minimization problem (maximize the value and minimize the tree size)(so the one value is positive and the other one is negative). The individual will be based upon a tree, to which we add the defined fitness."
   ]
  },
  {
   "cell_type": "code",
   "execution_count": 4,
   "metadata": {},
   "outputs": [],
   "source": [
    "creator.create(\"Fitness\", base.Fitness, weights=(1.0, -1.0, ))\n",
    "creator.create(\"Individual\", gp.PrimitiveTree, fitness=creator.Fitness, pset=pset)"
   ]
  },
  {
   "cell_type": "markdown",
   "metadata": {},
   "source": [
    "# 3. Define helper functions\n",
    "Register functions that we during the whole algorithm (generate, evaluate, mutate, ...). Any structure with access to the toolbox will also have access to all of those registered parameters."
   ]
  },
  {
   "cell_type": "markdown",
   "metadata": {},
   "source": [
    "## 3.1 Generating individuals"
   ]
  },
  {
   "cell_type": "code",
   "execution_count": 5,
   "metadata": {},
   "outputs": [],
   "source": [
    "toolbox = base.Toolbox()\n",
    "# Defines how a tree expression looks like\n",
    "toolbox.register(\"expr\", gp.genHalfAndHalf, pset=pset, min_=1, max_=6)\n",
    "# How an individual should be generated (in this case as a tree)\n",
    "toolbox.register(\"individual\", tools.initIterate, creator.Individual, toolbox.expr)\n",
    "# How the population of individuals should look like\n",
    "toolbox.register(\"population\", tools.initRepeat, list, toolbox.individual)"
   ]
  },
  {
   "cell_type": "markdown",
   "metadata": {},
   "source": [
    "## 3.2 Evaluation\n",
    "Define functions that help us to evaluate an individuum. This includes to calculate the fitness. But first we need to generate executable pythoncode out of our tree individuals.\n",
    "\n",
    "To get working python code out of our generated tree we can use the `gp.compile` function."
   ]
  },
  {
   "cell_type": "code",
   "execution_count": 6,
   "metadata": {},
   "outputs": [],
   "source": [
    "# Generates Python code out of trees\n",
    "toolbox.register(\"compile\", gp.compile, pset=pset)\n",
    "\n",
    "all_symbols = load_all_symbols()\n",
    "all_assets = generate_all_assets(all_symbols, sample=len(all_symbols))\n",
    "\n",
    "def evaluate(tree):\n",
    "    # using the previously defined compile function\n",
    "    function = toolbox.compile(tree)\n",
    "\n",
    "    # Set end date which is used to generate the trees\n",
    "    end = datetime(2015, 1, 23)\n",
    "\n",
    "    #\n",
    "    nr_samples = 10\n",
    "\n",
    "    # Following part is used to evaluate the trees\n",
    "    profit = 0.0\n",
    "    risk = 0.0\n",
    "    # Go through some sample assets and get a recommendation for how long one should hold the stock, based on the historical data\n",
    "    for asset in random.sample(all_assets, nr_samples):\n",
    "        hold_duration = function(asset)\n",
    "\n",
    "        if hold_duration is not None and hold_duration > 0:\n",
    "            # Get the profit and risk for the calculated hold time for one specific asset\n",
    "            future_profit = asset.get_avg_profit(start=end, end=end + relativedelta(months=hold_duration))\n",
    "            future_risk = asset.get_avg_risk(start=end, end=end + relativedelta(months=hold_duration))\n",
    "            if future_profit is not None:\n",
    "                profit += future_profit\n",
    "            if future_risk is not None:\n",
    "                risk += future_risk\n",
    "\n",
    "    profit = profit / nr_samples\n",
    "    risk = risk / nr_samples\n",
    "    return profit, risk,\n",
    "\n",
    "# Now add the evaluation Function to our toolbox\n",
    "toolbox.register(\"evaluate\", evaluate)"
   ]
  },
  {
   "cell_type": "markdown",
   "metadata": {},
   "source": [
    "## 3.3 Selection for next generation\n",
    "Select the best individual among tournsize randomly chosen individuals, k times. The list returned contains references to the input individuals."
   ]
  },
  {
   "cell_type": "code",
   "execution_count": 7,
   "metadata": {},
   "outputs": [],
   "source": [
    "toolbox.register(\"select\", tools.selTournament, tournsize=3)"
   ]
  },
  {
   "cell_type": "markdown",
   "metadata": {},
   "source": [
    "## 3.4 Reproduction\n",
    "Define random mutations for individuals.\n",
    "\n",
    "Mutation strategy: Randomly select a point in the tree individual, then replace the subtree at that point as a root by the expression generated using method expr_mut().\n",
    "\n",
    "Crossover strategy: Randomly select crossover point in each individual and exchange each subtree with the point as root between each individual."
   ]
  },
  {
   "cell_type": "code",
   "execution_count": 8,
   "metadata": {},
   "outputs": [],
   "source": [
    "# Defines how the expression of a tree mutation should look like\n",
    "toolbox.register(\"expr_mut\", gp.genFull, min_=0, max_=2)\n",
    "# How the mutation should be applied\n",
    "toolbox.register(\"mutate\", gp.mutUniform, expr=toolbox.expr_mut, pset=pset)\n",
    "\n",
    "# Crossover\n",
    "toolbox.register(\"mate\", gp.cxOnePoint)\n",
    "\n",
    "\n",
    "# Limit the height of individual to avoid bloat\n",
    "toolbox.decorate(\"mutate\", gp.staticLimit(key=operator.attrgetter(\"height\"), max_value=17))\n",
    "toolbox.decorate(\"mate\", gp.staticLimit(key=operator.attrgetter(\"height\"), max_value=17))"
   ]
  },
  {
   "cell_type": "markdown",
   "metadata": {},
   "source": [
    "# 4. Add some statistics\n",
    " In this case, we want to compute the mean, standard deviation, minimum, and maximum of both the individuals fitness and size."
   ]
  },
  {
   "cell_type": "code",
   "execution_count": 9,
   "metadata": {},
   "outputs": [],
   "source": [
    "def stats():\n",
    "    stats_fit = tools.Statistics(lambda ind: ind.fitness.values)\n",
    "    stats_size = tools.Statistics(len)\n",
    "    mstats = tools.MultiStatistics(fitness=stats_fit, size=stats_size)\n",
    "    mstats.register(\"avg\", np.mean)\n",
    "    mstats.register(\"max\", np.max)\n",
    "    return mstats"
   ]
  },
  {
   "cell_type": "markdown",
   "metadata": {},
   "source": [
    "# 5. Plott trees"
   ]
  },
  {
   "cell_type": "code",
   "execution_count": 10,
   "metadata": {},
   "outputs": [],
   "source": [
    "def plot(trees):\n",
    "    write_file(trees[0])\n",
    "    for index, tree in zip(range(len(trees)), trees):\n",
    "        # Generate Graph\n",
    "        print(\"generate Graph for tree \" + str(index))\n",
    "        nodes, edges, labels = gp.graph(tree)\n",
    "        plot_tree(nodes, edges, labels, 'tree' + str(index))"
   ]
  },
  {
   "cell_type": "markdown",
   "metadata": {},
   "source": [
    "# 6. Launch"
   ]
  },
  {
   "cell_type": "code",
   "execution_count": 12,
   "metadata": {},
   "outputs": [
    {
     "name": "stdout",
     "output_type": "stream",
     "text": [
      "   \t      \t               fitness                \t             size             \n",
      "   \t      \t--------------------------------------\t------------------------------\n",
      "gen\tnevals\tavg     \tgen\tmax    \tnevals\tavg \tgen\tmax\tnevals\n",
      "0  \t10    \t0.189936\t0  \t2.78192\t10    \t39.2\t0  \t120\t10    \n",
      "1  \t3     \t0.312812\t1  \t5.41082\t3     \t13.1\t1  \t55 \t3     \n",
      "2  \t4     \t14.0047 \t2  \t273.111\t4     \t8.3 \t2  \t15 \t4     \n",
      "3  \t5     \t0.0969034\t3  \t0.229522\t5     \t5.8 \t3  \t11 \t5     \n",
      "4  \t4     \tnan      \t4  \tnan     \t4     \t7.1 \t4  \t15 \t4     \n",
      "5  \t1     \tnan      \t5  \tnan     \t1     \t5.4 \t5  \t11 \t1     \n",
      "6  \t0     \tnan      \t6  \tnan     \t0     \t5.4 \t6  \t11 \t0     \n",
      "7  \t6     \t0.112741 \t7  \t0.298168\t6     \t5.1 \t7  \t7  \t6     \n",
      "8  \t3     \tnan      \t8  \tnan     \t3     \t5.1 \t8  \t7  \t3     \n",
      "9  \t6     \tnan      \t9  \tnan     \t6     \t5.7 \t9  \t11 \t6     \n",
      "10 \t4     \t95.6963  \t10 \t1912.24 \t4     \t6.2 \t10 \t11 \t4     \n",
      "11 \t6     \t0.0839916\t11 \t0.25677 \t6     \t6.3 \t11 \t17 \t6     \n",
      "12 \t5     \t0.108793 \t12 \t0.2953  \t5     \t5.2 \t12 \t9  \t5     \n",
      "13 \t7     \tnan      \t13 \tnan     \t7     \t5.9 \t13 \t14 \t7     \n",
      "14 \t2     \tnan      \t14 \tnan     \t2     \t5   \t14 \t5  \t2     \n",
      "15 \t2     \tnan      \t15 \tnan     \t2     \t5   \t15 \t5  \t2     \n",
      "16 \t6     \t0.132239 \t16 \t0.636034\t6     \t5.4 \t16 \t8  \t6     \n",
      "17 \t8     \tnan      \t17 \tnan     \t8     \t5.4 \t17 \t8  \t8     \n",
      "18 \t7     \tnan      \t18 \tnan     \t7     \t5   \t18 \t6  \t7     \n",
      "19 \t1     \tnan      \t19 \tnan     \t1     \t5.5 \t19 \t14 \t1     \n",
      "20 \t3     \tnan      \t20 \tnan     \t3     \t7.7 \t20 \t14 \t3     \n",
      "21 \t4     \tnan      \t21 \tnan     \t4     \t7.9 \t21 \t14 \t4     \n",
      "22 \t6     \t0.0998998\t22 \t0.229522\t6     \t6.7 \t22 \t13 \t6     \n",
      "23 \t5     \t0.105739 \t23 \t0.290565\t5     \t7.2 \t23 \t15 \t5     \n",
      "24 \t3     \t0.119771 \t24 \t0.290565\t3     \t6.3 \t24 \t13 \t3     \n",
      "25 \t5     \t19166.6  \t25 \t383320  \t5     \t5   \t25 \t8  \t5     \n",
      "generate Graph for tree 0\n"
     ]
    },
    {
     "data": {
      "image/png": "[encoded data removed]",
      "text/plain": [
       "<IPython.core.display.Image object>"
      ]
     },
     "execution_count": 12,
     "metadata": {},
     "output_type": "execute_result"
    }
   ],
   "source": [
    "pop = toolbox.population(n=10)\n",
    "hof = tools.HallOfFame(1)\n",
    "\n",
    "mstats = stats()\n",
    "\n",
    "pop, log = algorithms.eaSimple(pop, toolbox, cxpb=0.3, mutpb=0.2, ngen=25, halloffame=hof, stats=mstats, verbose=True)\n",
    "\n",
    "\n",
    "plot(hof)\n",
    "\n",
    "# Display the tree\n",
    "from IPython.display import Image\n",
    "Image(filename=\"tree0.png\")"
   ]
  },
  {
   "cell_type": "code",
   "execution_count": null,
   "metadata": {},
   "outputs": [],
   "source": []
  }
 ],
 "metadata": {
  "kernelspec": {
   "display_name": "Python 3",
   "language": "python",
   "name": "python3"
  },
  "language_info": {
   "codemirror_mode": {
    "name": "ipython",
    "version": 3
   },
   "file_extension": ".py",
   "mimetype": "text/x-python",
   "name": "python",
   "nbconvert_exporter": "python",
   "pygments_lexer": "ipython3",
   "version": "3.9.4"
  }
 },
 "nbformat": 4,
 "nbformat_minor": 2
}
